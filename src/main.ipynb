{
 "cells": [
  {
   "cell_type": "code",
   "execution_count": 2,
   "id": "91a31a44-f525-4fa7-951b-226edc7e24d4",
   "metadata": {},
   "outputs": [],
   "source": [
    "from transformers import BertForQuestionAnswering, BertTokenizer\n",
    "import torch\n",
    "import re\n",
    "from nltk.corpus import stopwords"
   ]
  },
  {
   "cell_type": "code",
   "execution_count": 3,
   "id": "7f205fa1-d1d1-4b1e-8516-3c3316d25b2c",
   "metadata": {},
   "outputs": [],
   "source": [
    "# Load pre-trained model and tokenizer\n",
    "model_name = 'bert-large-uncased-whole-word-masking-finetuned-squad'\n",
    "model = BertForQuestionAnswering.from_pretrained(model_name)\n",
    "tokenizer = BertTokenizer.from_pretrained(model_name)"
   ]
  },
  {
   "cell_type": "code",
   "execution_count": 4,
   "id": "f9babc2f-9aca-4988-8b26-f9c34495f77f",
   "metadata": {},
   "outputs": [],
   "source": [
    "# Read context from a text file with UTF-8 encoding\n",
    "context_file_path = './../data/english/archive/ramayan.txt'\n",
    "with open(context_file_path, 'r', encoding='utf-8') as file:\n",
    "    context = file.read()"
   ]
  },
  {
   "cell_type": "code",
   "execution_count": 5,
   "id": "ccf5faa5-f516-4ed2-8e83-911b238a3c16",
   "metadata": {},
   "outputs": [],
   "source": [
    "# Clean and preprocess the context\n",
    "cleaned_context = context"
   ]
  },
  {
   "cell_type": "code",
   "execution_count": 6,
   "id": "1cb6b178-a4d1-4549-bdbe-93e3aaa33a02",
   "metadata": {},
   "outputs": [],
   "source": [
    "# Function to split the context into chunks\n",
    "def chunk_context(context, max_length):\n",
    "    tokens = tokenizer.tokenize(context)\n",
    "    chunks = []\n",
    "    for i in range(0, len(tokens), max_length):\n",
    "        chunk = tokens[i:i + max_length]\n",
    "        chunks.append(tokenizer.convert_tokens_to_string(chunk))\n",
    "    return chunks"
   ]
  },
  {
   "cell_type": "code",
   "execution_count": 7,
   "id": "4300b05a-2e7e-4810-a6c8-ed78c290f90e",
   "metadata": {},
   "outputs": [],
   "source": [
    "# Chunk the cleaned context to fit within model's maximum input length\n",
    "max_length = 512 - 50  # Allow some space for the question\n",
    "context_chunks = chunk_context(cleaned_context, max_length)"
   ]
  },
  {
   "cell_type": "code",
   "execution_count": 8,
   "id": "2ee5c7ab-8f74-4387-aeb7-aa793d3f046c",
   "metadata": {},
   "outputs": [
    {
     "name": "stdout",
     "output_type": "stream",
     "text": [
      "Type your question or type 'quit' to exit.\n"
     ]
    }
   ],
   "source": [
    "print(\"Type your question or type 'quit' to exit.\")"
   ]
  },
  {
   "cell_type": "code",
   "execution_count": null,
   "id": "53bbec38-d6b7-4135-abda-eb15df07b6c1",
   "metadata": {},
   "outputs": [],
   "source": [
    "while True:\n",
    "    # Get question from the user\n",
    "    question = input(\"Question: \")\n",
    "    \n",
    "    if question.lower() == 'quit':\n",
    "        break\n",
    "\n",
    "    answers = []"
   ]
  },
  {
   "cell_type": "code",
   "execution_count": null,
   "id": "5439a9eb-d1b0-4023-80ae-b33e1377ad34",
   "metadata": {},
   "outputs": [],
   "source": [
    "     for chunk in context_chunks:\n",
    "            # Encode inputs\n",
    "            inputs = tokenizer.encode_plus(question, chunk, return_tensors='pt')\n",
    "            input_ids = inputs['input_ids']\n",
    "            attention_mask = inputs['attention_mask']\n",
    "    \n",
    "            # Get model outputs\n",
    "            outputs = model(input_ids, attention_mask=attention_mask)\n",
    "            start_scores, end_scores = outputs.start_logits, outputs.end_logits\n",
    "    \n",
    "            # Get the most likely start and end of the answer\n",
    "            start_index = torch.argmax(start_scores)\n",
    "            end_index = torch.argmax(end_scores) + 1\n",
    "    \n",
    "            # Decode the answer\n",
    "            answer = tokenizer.convert_tokens_to_string(tokenizer.convert_ids_to_tokens(input_ids[0][start_index:end_index]))\n",
    "            answers.append(answer)"
   ]
  },
  {
   "cell_type": "code",
   "execution_count": null,
   "id": "4f8c575e-d877-4e45-aabe-78f7a2ef5fcd",
   "metadata": {},
   "outputs": [],
   "source": [
    "    # Combine answers from different chunks (if needed)\n",
    "        final_answer = ' '.join(answers)\n",
    "        print(f\"Bert-FineTuned-Model [LUM]: {final_answer}\\n\")"
   ]
  }
 ],
 "metadata": {
  "kernelspec": {
   "display_name": "Python 3 (ipykernel)",
   "language": "python",
   "name": "python3"
  },
  "language_info": {
   "codemirror_mode": {
    "name": "ipython",
    "version": 3
   },
   "file_extension": ".py",
   "mimetype": "text/x-python",
   "name": "python",
   "nbconvert_exporter": "python",
   "pygments_lexer": "ipython3",
   "version": "3.11.5"
  }
 },
 "nbformat": 4,
 "nbformat_minor": 5
}
