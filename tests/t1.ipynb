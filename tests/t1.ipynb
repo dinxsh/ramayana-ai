{
 "cells": [
  {
   "cell_type": "code",
   "execution_count": null,
   "id": "77f1aeff-1d78-4966-ab3e-b54078515393",
   "metadata": {},
   "outputs": [],
   "source": [
    "print(\"test 1\")"
   ]
  }
 ],
 "metadata": {
  "kernelspec": {
   "display_name": "Python 3 (ipykernel)",
   "language": "python",
   "name": "python3"
  },
  "language_info": {
   "codemirror_mode": {
    "name": "ipython",
    "version": 3
   },
   "file_extension": ".py",
   "mimetype": "text/x-python",
   "name": "python",
   "nbconvert_exporter": "python",
   "pygments_lexer": "ipython3",
   "version": "3.11.5"
  }
 },
 "nbformat": 4,
 "nbformat_minor": 5
}
